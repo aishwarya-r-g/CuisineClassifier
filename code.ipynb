{
 "cells": [
  {
   "cell_type": "code",
   "execution_count": 1,
   "metadata": {
    "collapsed": false
   },
   "outputs": [],
   "source": [
    "import numpy as np\n",
    "import pandas as pd\n",
    "import json\n",
    "from sklearn import tree\n",
    "from sklearn.naive_bayes import GaussianNB\n",
    "from sklearn.neighbors import KNeighborsClassifier\n",
    "from sklearn.ensemble import RandomForestClassifier\n",
    "\n",
    "from sklearn.linear_model import LogisticRegression\n",
    "from sklearn.svm import SVC\n",
    "from sklearn.ensemble import GradientBoostingClassifier\n"
   ]
  },
  {
   "cell_type": "code",
   "execution_count": 2,
   "metadata": {
    "collapsed": false
   },
   "outputs": [],
   "source": [
    "from sklearn.gaussian_process.kernels import RBF\n",
    "from sklearn.neural_network import MLPClassifier"
   ]
  },
  {
   "cell_type": "code",
   "execution_count": 3,
   "metadata": {
    "collapsed": false
   },
   "outputs": [],
   "source": [
    "with open('train.json', 'r') as f:\n",
    "    datastore = json.load(f)"
   ]
  },
  {
   "cell_type": "code",
   "execution_count": 36,
   "metadata": {
    "collapsed": false
   },
   "outputs": [
    {
     "name": "stdout",
     "output_type": "stream",
     "text": [
      "39774 [u'romaine lettuce', u'black olives', u'grape tomatoes', u'garlic', u'pepper', u'purple onion', u'seasoning', u'garbanzo beans', u'feta cheese crumbles']\n"
     ]
    }
   ],
   "source": [
    "df = pd.DataFrame(datastore)\n",
    "ings = df['ingredients']\n",
    "print len(df), ings[0]"
   ]
  },
  {
   "cell_type": "code",
   "execution_count": 5,
   "metadata": {
    "collapsed": true
   },
   "outputs": [],
   "source": [
    "ing_list = []\n",
    "for ele in ings:\n",
    "    for i in ele:\n",
    "        if i not in ing_list:\n",
    "            ing_list.append(i)"
   ]
  },
  {
   "cell_type": "code",
   "execution_count": 6,
   "metadata": {
    "collapsed": false
   },
   "outputs": [
    {
     "data": {
      "text/plain": [
       "6714"
      ]
     },
     "execution_count": 6,
     "metadata": {},
     "output_type": "execute_result"
    }
   ],
   "source": [
    "len(ing_list)"
   ]
  },
  {
   "cell_type": "code",
   "execution_count": 7,
   "metadata": {
    "collapsed": false
   },
   "outputs": [],
   "source": [
    "train_df  = pd.DataFrame(0, index=np.arange(len(df)), columns=ing_list)"
   ]
  },
  {
   "cell_type": "code",
   "execution_count": 8,
   "metadata": {
    "collapsed": false
   },
   "outputs": [
    {
     "data": {
      "text/plain": [
       "Index([u'romaine lettuce', u'black olives', u'grape tomatoes', u'garlic',\n",
       "       u'pepper', u'purple onion', u'seasoning', u'garbanzo beans',\n",
       "       u'feta cheese crumbles', u'plain flour',\n",
       "       ...\n",
       "       u'Oscar Mayer Cotto Salami', u'Challenge Butter', u'orange glaze',\n",
       "       u'cholesterol free egg substitute', u'ciabatta loaf',\n",
       "       u'Lipton® Iced Tea Brew Family Size Tea Bags',\n",
       "       u'Hidden Valley® Greek Yogurt Original Ranch® Dip Mix', u'lop chong',\n",
       "       u'tomato garlic pasta sauce', u'crushed cheese crackers'],\n",
       "      dtype='object', length=6714)"
      ]
     },
     "execution_count": 8,
     "metadata": {},
     "output_type": "execute_result"
    }
   ],
   "source": [
    "train_df.columns"
   ]
  },
  {
   "cell_type": "code",
   "execution_count": 9,
   "metadata": {
    "collapsed": false
   },
   "outputs": [
    {
     "data": {
      "text/plain": [
       "39774"
      ]
     },
     "execution_count": 9,
     "metadata": {},
     "output_type": "execute_result"
    }
   ],
   "source": [
    "train_df.shape[0]"
   ]
  },
  {
   "cell_type": "code",
   "execution_count": 10,
   "metadata": {
    "collapsed": false
   },
   "outputs": [
    {
     "data": {
      "text/plain": [
       "romaine lettuce                                        0\n",
       "black olives                                           0\n",
       "grape tomatoes                                         0\n",
       "garlic                                                 0\n",
       "pepper                                                 0\n",
       "purple onion                                           0\n",
       "seasoning                                              0\n",
       "garbanzo beans                                         0\n",
       "feta cheese crumbles                                   0\n",
       "plain flour                                            0\n",
       "ground pepper                                          0\n",
       "salt                                                   0\n",
       "tomatoes                                               0\n",
       "ground black pepper                                    0\n",
       "thyme                                                  0\n",
       "eggs                                                   0\n",
       "green tomatoes                                         0\n",
       "yellow corn meal                                       0\n",
       "milk                                                   0\n",
       "vegetable oil                                          0\n",
       "mayonaise                                              0\n",
       "cooking oil                                            0\n",
       "green chilies                                          0\n",
       "grilled chicken breasts                                0\n",
       "garlic powder                                          0\n",
       "yellow onion                                           0\n",
       "soy sauce                                              0\n",
       "butter                                                 0\n",
       "chicken livers                                         0\n",
       "water                                                  0\n",
       "                                                      ..\n",
       "puff paste                                             0\n",
       "Barilla Plus Pasta                                     0\n",
       "turkey giblet stock                                    0\n",
       "light chicken stock                                    0\n",
       "conchiglie                                             0\n",
       "2% milk shredded mozzarella cheese                     0\n",
       "Makers Mark Whisky                                     0\n",
       "knorr pasta side   cheesi cheddar                      0\n",
       "whole grain baguette                                   0\n",
       "reduced sodium ham                                     0\n",
       "whole wheat peasant bread                              0\n",
       "ranch-style seasoning                                  0\n",
       "ketjap                                                 0\n",
       "chocolate flavored liqueur                             0\n",
       "rotini pasta, cook and drain                           0\n",
       "game                                                   0\n",
       "tongue                                                 0\n",
       "Daiya                                                  0\n",
       "curry mix                                              0\n",
       "Kraft Slim Cut Mozzarella Cheese Slices                0\n",
       "Oscar Mayer Cotto Salami                               0\n",
       "Challenge Butter                                       0\n",
       "orange glaze                                           0\n",
       "cholesterol free egg substitute                        0\n",
       "ciabatta loaf                                          0\n",
       "Lipton® Iced Tea Brew Family Size Tea Bags             0\n",
       "Hidden Valley® Greek Yogurt Original Ranch® Dip Mix    0\n",
       "lop chong                                              0\n",
       "tomato garlic pasta sauce                              0\n",
       "crushed cheese crackers                                0\n",
       "Name: 0, dtype: int64"
      ]
     },
     "execution_count": 10,
     "metadata": {},
     "output_type": "execute_result"
    }
   ],
   "source": [
    "train_df.iloc[0]"
   ]
  },
  {
   "cell_type": "code",
   "execution_count": 11,
   "metadata": {
    "collapsed": false
   },
   "outputs": [],
   "source": [
    "for i, row in df.iterrows():\n",
    "    for ing in row['ingredients']:\n",
    "        train_df.loc[i][ing] =1\n",
    "        #print ing, new_df.loc[i][ing]\n",
    "    "
   ]
  },
  {
   "cell_type": "code",
   "execution_count": 12,
   "metadata": {
    "collapsed": false
   },
   "outputs": [],
   "source": [
    "cui_list = df['cuisine'].values\n",
    "train_df['cuisine'] = cui_list"
   ]
  },
  {
   "cell_type": "code",
   "execution_count": 13,
   "metadata": {
    "collapsed": false
   },
   "outputs": [],
   "source": [
    "id_list = df['id'].values\n",
    "train_df['id'] = id_list"
   ]
  },
  {
   "cell_type": "code",
   "execution_count": 38,
   "metadata": {
    "collapsed": false
   },
   "outputs": [
    {
     "name": "stdout",
     "output_type": "stream",
     "text": [
      "romaine lettuce                                            1\n",
      "black olives                                               1\n",
      "grape tomatoes                                             1\n",
      "garlic                                                     1\n",
      "pepper                                                     1\n",
      "purple onion                                               1\n",
      "seasoning                                                  1\n",
      "garbanzo beans                                             1\n",
      "feta cheese crumbles                                       1\n",
      "plain flour                                                0\n",
      "ground pepper                                              0\n",
      "salt                                                       0\n",
      "tomatoes                                                   0\n",
      "ground black pepper                                        0\n",
      "thyme                                                      0\n",
      "eggs                                                       0\n",
      "green tomatoes                                             0\n",
      "yellow corn meal                                           0\n",
      "milk                                                       0\n",
      "vegetable oil                                              0\n",
      "mayonaise                                                  0\n",
      "cooking oil                                                0\n",
      "green chilies                                              0\n",
      "grilled chicken breasts                                    0\n",
      "garlic powder                                              0\n",
      "yellow onion                                               0\n",
      "soy sauce                                                  0\n",
      "butter                                                     0\n",
      "chicken livers                                             0\n",
      "water                                                      0\n",
      "                                                       ...  \n",
      "turkey giblet stock                                        0\n",
      "light chicken stock                                        0\n",
      "conchiglie                                                 0\n",
      "2% milk shredded mozzarella cheese                         0\n",
      "Makers Mark Whisky                                         0\n",
      "knorr pasta side   cheesi cheddar                          0\n",
      "whole grain baguette                                       0\n",
      "reduced sodium ham                                         0\n",
      "whole wheat peasant bread                                  0\n",
      "ranch-style seasoning                                      0\n",
      "ketjap                                                     0\n",
      "chocolate flavored liqueur                                 0\n",
      "rotini pasta, cook and drain                               0\n",
      "game                                                       0\n",
      "tongue                                                     0\n",
      "Daiya                                                      0\n",
      "curry mix                                                  0\n",
      "Kraft Slim Cut Mozzarella Cheese Slices                    0\n",
      "Oscar Mayer Cotto Salami                                   0\n",
      "Challenge Butter                                           0\n",
      "orange glaze                                               0\n",
      "cholesterol free egg substitute                            0\n",
      "ciabatta loaf                                              0\n",
      "Lipton® Iced Tea Brew Family Size Tea Bags                 0\n",
      "Hidden Valley® Greek Yogurt Original Ranch® Dip Mix        0\n",
      "lop chong                                                  0\n",
      "tomato garlic pasta sauce                                  0\n",
      "crushed cheese crackers                                    0\n",
      "cuisine                                                greek\n",
      "id                                                     10259\n",
      "Name: 0, dtype: object\n"
     ]
    }
   ],
   "source": [
    "print train_df.loc[0]"
   ]
  },
  {
   "cell_type": "code",
   "execution_count": 14,
   "metadata": {
    "collapsed": false
   },
   "outputs": [],
   "source": [
    "feature_cols = ing_list\n",
    "X = train_df.loc[:, feature_cols]"
   ]
  },
  {
   "cell_type": "code",
   "execution_count": 15,
   "metadata": {
    "collapsed": true
   },
   "outputs": [],
   "source": [
    "Y = train_df['cuisine']\n",
    "target_cols = ['cuisine']"
   ]
  },
  {
   "cell_type": "code",
   "execution_count": 16,
   "metadata": {
    "collapsed": true
   },
   "outputs": [],
   "source": [
    "clf = tree.DecisionTreeClassifier()\n",
    "clf = clf.fit(X, Y)"
   ]
  },
  {
   "cell_type": "code",
   "execution_count": 17,
   "metadata": {
    "collapsed": true
   },
   "outputs": [],
   "source": [
    "with open('test.json', 'r') as f:\n",
    "    test_datastore = json.load(f)"
   ]
  },
  {
   "cell_type": "code",
   "execution_count": 18,
   "metadata": {
    "collapsed": true
   },
   "outputs": [],
   "source": [
    "df2 = pd.DataFrame(test_datastore)"
   ]
  },
  {
   "cell_type": "code",
   "execution_count": 19,
   "metadata": {
    "collapsed": true
   },
   "outputs": [],
   "source": [
    "test_df  = pd.DataFrame(0, index=np.arange(len(df2)), columns=ing_list)"
   ]
  },
  {
   "cell_type": "code",
   "execution_count": 20,
   "metadata": {
    "collapsed": true
   },
   "outputs": [],
   "source": [
    "for i, row in df2.iterrows():\n",
    "    for ing in row['ingredients']:\n",
    "        test_df.loc[i][ing] =1\n",
    "        #print ing, new_df.loc[i][ing]"
   ]
  },
  {
   "cell_type": "code",
   "execution_count": 21,
   "metadata": {
    "collapsed": true
   },
   "outputs": [],
   "source": [
    "test_id_list = df2['id'].values\n",
    "test_df['id'] = test_id_list"
   ]
  },
  {
   "cell_type": "code",
   "execution_count": 22,
   "metadata": {
    "collapsed": true
   },
   "outputs": [],
   "source": [
    "test_X = test_df.loc[:, feature_cols]"
   ]
  },
  {
   "cell_type": "code",
   "execution_count": 23,
   "metadata": {
    "collapsed": true
   },
   "outputs": [],
   "source": [
    "prediction = clf.predict(test_X)"
   ]
  },
  {
   "cell_type": "code",
   "execution_count": 24,
   "metadata": {
    "collapsed": false
   },
   "outputs": [],
   "source": [
    "results = pd.DataFrame(test_id_list, prediction)"
   ]
  },
  {
   "cell_type": "code",
   "execution_count": 25,
   "metadata": {
    "collapsed": false
   },
   "outputs": [],
   "source": [
    "results.to_csv('results.csv', sep=',', encoding='utf-8')"
   ]
  },
  {
   "cell_type": "code",
   "execution_count": 26,
   "metadata": {
    "collapsed": true
   },
   "outputs": [],
   "source": [
    "def get_train_test(df, y_col, x_cols, ratio):\n",
    "    \"\"\" \n",
    "    This method transforms a dataframe into a train and test set, for this you need to specify:\n",
    "    1. the ratio train : test (usually 0.7)\n",
    "    2. the column with the Y_values\n",
    "    \"\"\"\n",
    "    mask = np.random.rand(len(df)) < ratio\n",
    "    df_train = df[mask]\n",
    "    df_test = df[~mask]\n",
    "    \n",
    "    X_train = df_train.loc[:, x_cols].values\n",
    "    X_test = df_test.loc[:, x_cols].values\n",
    "    \n",
    "    Y_train = df_train.loc[:, y_col].values\n",
    "    Y_test = df_test.loc[:, y_col].values\n",
    "    \n",
    "    return df_train, df_test, X_train, Y_train, X_test, Y_test"
   ]
  },
  {
   "cell_type": "code",
   "execution_count": 27,
   "metadata": {
    "collapsed": false
   },
   "outputs": [],
   "source": [
    "train_test_ratio = 0.7\n",
    "df_train, df_test, X_train, Y_train, X_test, Y_test = get_train_test(train_df, target_cols, feature_cols, train_test_ratio)"
   ]
  },
  {
   "cell_type": "code",
   "execution_count": 28,
   "metadata": {
    "collapsed": false
   },
   "outputs": [
    {
     "name": "stdout",
     "output_type": "stream",
     "text": [
      "0.999784475017 0.604775869292\n"
     ]
    }
   ],
   "source": [
    "clf_dt = tree.DecisionTreeClassifier()\n",
    "clf_dt = clf_dt.fit(X_train, Y_train)\n",
    "dt_train_score = clf_dt.score(X_train, Y_train)\n",
    "dt_test_score = clf_dt.score(X_test, Y_test)\n",
    "print dt_train_score, dt_test_score"
   ]
  },
  {
   "cell_type": "code",
   "execution_count": 29,
   "metadata": {
    "collapsed": false
   },
   "outputs": [
    {
     "name": "stdout",
     "output_type": "stream",
     "text": [
      "0.5444161069 0.383996648513\n"
     ]
    }
   ],
   "source": [
    "clf_nb = GaussianNB()\n",
    "clf_nb = clf_nb.fit(X_train, Y_train.ravel())\n",
    "nb_train_score = clf_nb.score(X_train, Y_train)\n",
    "nb_test_score = clf_nb.score(X_test, Y_test)\n",
    "print nb_train_score, nb_test_score"
   ]
  },
  {
   "cell_type": "code",
   "execution_count": 30,
   "metadata": {
    "collapsed": false
   },
   "outputs": [
    {
     "name": "stdout",
     "output_type": "stream",
     "text": [
      "0.999784475017 0.71193967323\n"
     ]
    }
   ],
   "source": [
    "clf_rfc = RandomForestClassifier(n_estimators=1000)\n",
    "clf_rfc = clf_rfc.fit(X_train, Y_train.ravel())\n",
    "rfc_train_score = clf_rfc.score(X_train, Y_train)\n",
    "rfc_test_score = clf_rfc.score(X_test, Y_test)\n",
    "print rfc_train_score, rfc_test_score"
   ]
  },
  {
   "cell_type": "code",
   "execution_count": 31,
   "metadata": {
    "collapsed": false
   },
   "outputs": [
    {
     "name": "stdout",
     "output_type": "stream",
     "text": [
      "0.87603721398 0.780058651026\n"
     ]
    }
   ],
   "source": [
    "clf_lr = LogisticRegression()\n",
    "clf_lr = clf_lr.fit(X_train, Y_train.ravel())\n",
    "lr_train_score = clf_lr.score(X_train, Y_train)\n",
    "lr_test_score = clf_lr.score(X_test, Y_test)\n",
    "print lr_train_score, lr_test_score"
   ]
  },
  {
   "cell_type": "code",
   "execution_count": 32,
   "metadata": {
    "collapsed": false
   },
   "outputs": [
    {
     "name": "stdout",
     "output_type": "stream",
     "text": [
      "0.726211430008 0.70297444491\n"
     ]
    }
   ],
   "source": [
    "clf_mlp = MLPClassifier(alpha = 1)\n",
    "clf_mlp = clf_mlp.fit(X_train, Y_train.ravel())\n",
    "mlp_train_score = clf_mlp.score(X_train, Y_train)\n",
    "mlp_test_score = clf_mlp.score(X_test, Y_test)\n",
    "print mlp_train_score, mlp_test_score"
   ]
  },
  {
   "cell_type": "code",
   "execution_count": null,
   "metadata": {
    "collapsed": false
   },
   "outputs": [],
   "source": []
  },
  {
   "cell_type": "code",
   "execution_count": 33,
   "metadata": {
    "collapsed": false
   },
   "outputs": [
    {
     "name": "stdout",
     "output_type": "stream",
     "text": [
      "0.001 0.481446891052 0.483200670297\n",
      "0.01 0.636624878767 0.628906577294\n",
      "0.1 0.77549480944 0.739673229996\n",
      "1 0.87603721398 0.780058651026\n",
      "10 0.939724846438 0.771260997067\n",
      "100 0.961887998851 0.736908253037\n"
     ]
    }
   ],
   "source": [
    "C_param_range = [0.001,0.01,0.1,1,10,100]\n",
    "for i in C_param_range:\n",
    "    clf_lr = LogisticRegression(penalty = 'l2', C = i,random_state = 0)\n",
    "    clf_lr = clf_lr.fit(X_train, Y_train.ravel())\n",
    "    lr_train_score = clf_lr.score(X_train, Y_train)\n",
    "    lr_test_score = clf_lr.score(X_test, Y_test)\n",
    "    print i, lr_train_score, lr_test_score"
   ]
  },
  {
   "cell_type": "code",
   "execution_count": 34,
   "metadata": {
    "collapsed": false
   },
   "outputs": [
    {
     "name": "stdout",
     "output_type": "stream",
     "text": [
      "10 gini 0.99195373397 0.663259321324\n",
      "10 entropy 0.992708071411 0.627398408044\n",
      "100 gini 0.999784475017 0.708001675744\n",
      "100 entropy 0.999784475017 0.675994972769\n",
      "500 gini 0.999784475017 0.715961457897\n",
      "500 entropy 0.999784475017 0.684625052367\n"
     ]
    }
   ],
   "source": [
    "n_estimators_range = [10, 100, 500]\n",
    "criterion_range = ['gini', 'entropy']\n",
    "for i in n_estimators_range:\n",
    "    for j in criterion_range:\n",
    "        clf_rfc = RandomForestClassifier(n_estimators=i, criterion=j)\n",
    "        clf_rfc = clf_rfc.fit(X_train, Y_train.ravel())\n",
    "        rfc_train_score = clf_rfc.score(X_train, Y_train)\n",
    "        rfc_test_score = clf_rfc.score(X_test, Y_test)\n",
    "        print i, j, rfc_train_score, rfc_test_score"
   ]
  },
  {
   "cell_type": "code",
   "execution_count": 40,
   "metadata": {
    "collapsed": false
   },
   "outputs": [
    {
     "name": "stdout",
     "output_type": "stream",
     "text": [
      "2 0.900176012069 0.782739840804\n",
      "3 0.913790006825 0.782823627985\n",
      "4 0.921405222889 0.780477586929\n",
      "5 0.92661374331 0.778801843318\n",
      "6 0.930600955494 0.776874738165\n",
      "7 0.93394159273 0.775785504818\n"
     ]
    }
   ],
   "source": [
    "C_param_range = [2,3,4,5,6,7]\n",
    "for i in C_param_range:\n",
    "    clf_lr = LogisticRegression(penalty = 'l2', C = i,random_state = 0)\n",
    "    clf_lr = clf_lr.fit(X_train, Y_train.ravel())\n",
    "    lr_train_score = clf_lr.score(X_train, Y_train)\n",
    "    lr_test_score = clf_lr.score(X_test, Y_test)\n",
    "    print i, lr_train_score, lr_test_score"
   ]
  },
  {
   "cell_type": "code",
   "execution_count": 49,
   "metadata": {
    "collapsed": false
   },
   "outputs": [],
   "source": [
    "# selected algorithm = logistical regression with parameters C=1\n",
    "\n",
    "clf_final = LogisticRegression(penalty = 'l2', C = 3,random_state = 0)\n",
    "clf_final = clf_final.fit(X_train, Y_train.ravel())\n",
    "fin_prediction = clf_final.predict(test_X)\n"
   ]
  },
  {
   "cell_type": "code",
   "execution_count": 51,
   "metadata": {
    "collapsed": true
   },
   "outputs": [],
   "source": [
    "output = {'id':test_id_list, 'cuisine':fin_prediction}\n",
    "fin_results = pd.DataFrame(output)\n",
    "fin_results.to_csv('output.csv', sep=',', encoding='utf-8', index=False, columns=['id','cuisine'], header=True)"
   ]
  },
  {
   "cell_type": "code",
   "execution_count": null,
   "metadata": {
    "collapsed": true
   },
   "outputs": [],
   "source": []
  }
 ],
 "metadata": {
  "kernelspec": {
   "display_name": "Python 2",
   "language": "python",
   "name": "python2"
  },
  "language_info": {
   "codemirror_mode": {
    "name": "ipython",
    "version": 2
   },
   "file_extension": ".py",
   "mimetype": "text/x-python",
   "name": "python",
   "nbconvert_exporter": "python",
   "pygments_lexer": "ipython2",
   "version": "2.7.13"
  }
 },
 "nbformat": 4,
 "nbformat_minor": 0
}
